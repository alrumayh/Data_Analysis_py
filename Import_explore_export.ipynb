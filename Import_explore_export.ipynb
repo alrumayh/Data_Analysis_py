{
 "cells": [
  {
   "cell_type": "code",
   "execution_count": null,
   "id": "ca44111c",
   "metadata": {},
   "outputs": [],
   "source": [
    "##To read (import) a csv file: \n",
    "\n",
    "name = “file path.csv” #(or anything you want to call it, it doesn't matter)\n",
    "\n",
    "DF = pd.read_csv(name) #DF is a the name of your dataset from now on\n",
    "#or\n",
    "DF = pd.read_csv(name, header = None) # if your csv file doesn't have a header, since pandas will automaticly make the first row as a header. \n",
    "#or\n",
    "DF = pd.read_excel() # if it is in an excel format\n",
    "\n",
    "--\n",
    "\n",
    "##To look at your data: \n",
    "\n",
    "DF.head() #view from the top \n",
    "DF.tail() #view from the bottom\n",
    "DF.head(60) #it will show you the first 60 rows \n",
    "\n",
    "-- \n",
    "\n",
    "##To add a header for your dataset: \n",
    "\n",
    "headers = [“x”, “bayl”, …, “till you match all your column”]\n",
    "DF.columns = headers \n",
    "\n",
    "--\n",
    "\n",
    "DF.dtypes # to check data types\n",
    "\n",
    "DF.describe() # return a statistical summary (including count, mean, std, min, 25%, 50%, 75%, max)\n",
    "\n",
    "DF.describe(include = \"all\") # provide a full summary statistics (including the above and unique, top, freq values; also will show column that does not have a numeric atributes!) \n",
    "\n",
    "--\n",
    "\n",
    "##To show  the value counts of your category: \n",
    "\n",
    "DF[\"column\"].value_counts()\n",
    "\n",
    "--\n",
    "\n",
    "##Exporting your dataset: \n",
    "\n",
    "path = “write the path where you want it to go to” \n",
    "DF.to_csv(path)\n",
    "\n",
    "--\n",
    "\n",
    "##To replace a value with NaN in your dataset, this will allow you to manipulate missing variables much easier later on\n",
    "\n",
    "df1=df.replace('varibale value > e.g., 992',np.NaN)\n",
    "\n",
    "-- \n",
    "\n",
    "##  I will update this file later"
   ]
  }
 ],
 "metadata": {
  "kernelspec": {
   "display_name": "Python 3",
   "language": "python",
   "name": "python3"
  },
  "language_info": {
   "codemirror_mode": {
    "name": "ipython",
    "version": 3
   },
   "file_extension": ".py",
   "mimetype": "text/x-python",
   "name": "python",
   "nbconvert_exporter": "python",
   "pygments_lexer": "ipython3",
   "version": "3.8.8"
  }
 },
 "nbformat": 4,
 "nbformat_minor": 5
}
